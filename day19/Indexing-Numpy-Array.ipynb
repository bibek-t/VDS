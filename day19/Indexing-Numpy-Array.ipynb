{
 "cells": [
  {
   "cell_type": "markdown",
   "id": "e13faeef",
   "metadata": {},
   "source": [
    "1D Array: array_name[idx] (similar to python list)\n",
    "    \n",
    "2D Array: array_name[row_idx, col_idx] (similar to matrix)\n",
    "    \n",
    "ND Array: array_name[dim1_idx, dim2_idx,.........,dimN_idx]"
   ]
  },
  {
   "cell_type": "markdown",
   "id": "1642e346",
   "metadata": {},
   "source": [
    "#  one dimensional"
   ]
  },
  {
   "cell_type": "code",
   "execution_count": 18,
   "id": "f9f9e00e",
   "metadata": {},
   "outputs": [],
   "source": [
    "list1= [1,2,3,4]"
   ]
  },
  {
   "cell_type": "code",
   "execution_count": 19,
   "id": "490aa6f9",
   "metadata": {},
   "outputs": [
    {
     "data": {
      "text/plain": [
       "3"
      ]
     },
     "execution_count": 19,
     "metadata": {},
     "output_type": "execute_result"
    }
   ],
   "source": [
    "list1[2]"
   ]
  },
  {
   "cell_type": "code",
   "execution_count": 20,
   "id": "28ad8e61",
   "metadata": {},
   "outputs": [],
   "source": [
    "import numpy as np\n"
   ]
  },
  {
   "cell_type": "code",
   "execution_count": 21,
   "id": "7737aff4",
   "metadata": {},
   "outputs": [],
   "source": [
    "array1=np.array(list1)"
   ]
  },
  {
   "cell_type": "code",
   "execution_count": 6,
   "id": "5205a921",
   "metadata": {},
   "outputs": [
    {
     "data": {
      "text/plain": [
       "3"
      ]
     },
     "execution_count": 6,
     "metadata": {},
     "output_type": "execute_result"
    }
   ],
   "source": [
    "array1[2]"
   ]
  },
  {
   "cell_type": "markdown",
   "id": "f92cc4e8",
   "metadata": {},
   "source": [
    "##  Multi Dimensional"
   ]
  },
  {
   "cell_type": "code",
   "execution_count": 8,
   "id": "2b9df4b1",
   "metadata": {},
   "outputs": [],
   "source": [
    "list2= [[1,2,3,4],[1,3,5,7]]"
   ]
  },
  {
   "cell_type": "code",
   "execution_count": 12,
   "id": "25f30e63",
   "metadata": {},
   "outputs": [
    {
     "data": {
      "text/plain": [
       "2"
      ]
     },
     "execution_count": 12,
     "metadata": {},
     "output_type": "execute_result"
    }
   ],
   "source": [
    "list2[0][1]"
   ]
  },
  {
   "cell_type": "code",
   "execution_count": 15,
   "id": "18b7d527",
   "metadata": {},
   "outputs": [],
   "source": [
    "array2=np.array(list2)\n"
   ]
  },
  {
   "cell_type": "code",
   "execution_count": 16,
   "id": "969097c9",
   "metadata": {},
   "outputs": [
    {
     "data": {
      "text/plain": [
       "array([[1, 2, 3, 4],\n",
       "       [1, 3, 5, 7]])"
      ]
     },
     "execution_count": 16,
     "metadata": {},
     "output_type": "execute_result"
    }
   ],
   "source": [
    "array2"
   ]
  },
  {
   "cell_type": "code",
   "execution_count": 14,
   "id": "fa080b5b",
   "metadata": {},
   "outputs": [
    {
     "data": {
      "text/plain": [
       "2"
      ]
     },
     "execution_count": 14,
     "metadata": {},
     "output_type": "execute_result"
    }
   ],
   "source": [
    "array2[0][1]"
   ]
  },
  {
   "cell_type": "code",
   "execution_count": 17,
   "id": "30aa9a2d",
   "metadata": {},
   "outputs": [
    {
     "data": {
      "text/plain": [
       "2"
      ]
     },
     "execution_count": 17,
     "metadata": {},
     "output_type": "execute_result"
    }
   ],
   "source": [
    "array2[0,1]"
   ]
  },
  {
   "cell_type": "code",
   "execution_count": null,
   "id": "0c7f92b9",
   "metadata": {},
   "outputs": [],
   "source": []
  }
 ],
 "metadata": {
  "kernelspec": {
   "display_name": "Python 3 (ipykernel)",
   "language": "python",
   "name": "python3"
  },
  "language_info": {
   "codemirror_mode": {
    "name": "ipython",
    "version": 3
   },
   "file_extension": ".py",
   "mimetype": "text/x-python",
   "name": "python",
   "nbconvert_exporter": "python",
   "pygments_lexer": "ipython3",
   "version": "3.11.3"
  }
 },
 "nbformat": 4,
 "nbformat_minor": 5
}
