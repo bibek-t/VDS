{
 "cells": [
  {
   "cell_type": "code",
   "execution_count": 1,
   "id": "26907532",
   "metadata": {},
   "outputs": [
    {
     "name": "stdout",
     "output_type": "stream",
     "text": [
      "8.0\n",
      "7.0\n",
      "5\n",
      "-5\n",
      "-4\n",
      "4.9\n"
     ]
    }
   ],
   "source": [
    "import math\n",
    "print(math.pow(2,3))\n",
    "print(math.sqrt(49))\n",
    "print(math.ceil(4.1))\n",
    "print(math.floor(-4.9))\n",
    "print(math.trunc(-4.9))\n",
    "print(math.fabs(-4.9))"
   ]
  },
  {
   "cell_type": "markdown",
   "id": "50e970e8",
   "metadata": {},
   "source": [
    " # Trigonometric Function"
   ]
  },
  {
   "cell_type": "code",
   "execution_count": 9,
   "id": "d2fad78e",
   "metadata": {},
   "outputs": [
    {
     "name": "stdout",
     "output_type": "stream",
     "text": [
      "1.0\n",
      "6.123233995736766e-17\n",
      "1.633123935319537e+16\n",
      "3.141592653589793\n",
      "90.0\n"
     ]
    },
    {
     "ename": "AttributeError",
     "evalue": "module 'math' has no attribute 'hyp'",
     "output_type": "error",
     "traceback": [
      "\u001b[1;31m---------------------------------------------------------------------------\u001b[0m",
      "\u001b[1;31mAttributeError\u001b[0m                            Traceback (most recent call last)",
      "Cell \u001b[1;32mIn[9], line 6\u001b[0m\n\u001b[0;32m      4\u001b[0m \u001b[38;5;28mprint\u001b[39m(math\u001b[38;5;241m.\u001b[39mradians(\u001b[38;5;241m180\u001b[39m))\n\u001b[0;32m      5\u001b[0m \u001b[38;5;28mprint\u001b[39m(math\u001b[38;5;241m.\u001b[39mdegrees(math\u001b[38;5;241m.\u001b[39mpi\u001b[38;5;241m/\u001b[39m\u001b[38;5;241m2\u001b[39m))\n\u001b[1;32m----> 6\u001b[0m \u001b[38;5;28mprint\u001b[39m(\u001b[43mmath\u001b[49m\u001b[38;5;241;43m.\u001b[39;49m\u001b[43mhyp\u001b[49m(\u001b[38;5;241m3\u001b[39m, \u001b[38;5;241m4\u001b[39m))\n",
      "\u001b[1;31mAttributeError\u001b[0m: module 'math' has no attribute 'hyp'"
     ]
    }
   ],
   "source": [
    "import math\n",
    "print(math.sin(math.pi/2))\n",
    "print(math.cos(math.pi/2))\n",
    "print(math.tan(math.pi/2))\n",
    "print(math.radians(180))\n",
    "print(math.degrees(math.pi/2))\n",
    "print(math.hyp(3, 4))\n"
   ]
  },
  {
   "cell_type": "code",
   "execution_count": 5,
   "id": "593e623d",
   "metadata": {},
   "outputs": [
    {
     "name": "stdout",
     "output_type": "stream",
     "text": [
      "2.718281828459045\n",
      "inf\n",
      "6.283185307179586\n",
      "nan\n"
     ]
    }
   ],
   "source": [
    "import math\n",
    "print(math.e)\n",
    "print(math.inf)\n",
    "print(math.tau)\n",
    "print(math.nan)"
   ]
  },
  {
   "cell_type": "markdown",
   "id": "cacfdb5e",
   "metadata": {},
   "source": [
    " #  Special Function"
   ]
  },
  {
   "cell_type": "code",
   "execution_count": 7,
   "id": "a44bfd26",
   "metadata": {},
   "outputs": [
    {
     "name": "stdout",
     "output_type": "stream",
     "text": [
      "120\n",
      "10\n",
      "True\n",
      "4\n",
      "5.196152422706632\n",
      "0.5204998778130465\n",
      "24.0\n",
      "60\n"
     ]
    }
   ],
   "source": [
    "import math\n",
    "print(math.factorial(5))\n",
    "print(math.comb(5, 2))\n",
    "print(math.isclose(0.1 + 0.2 , 0.3))\n",
    "print(math.isqrt(16))\n",
    "p=(1, 2, 3)\n",
    "q=(4, 5, 6)\n",
    "print(math.dist(p, q))\n",
    "print(math.erf(0.5))\n",
    "print(math.gamma(5))\n",
    "print(math.perm(5, 3))"
   ]
  },
  {
   "cell_type": "code",
   "execution_count": null,
   "id": "3eefd789",
   "metadata": {},
   "outputs": [],
   "source": []
  }
 ],
 "metadata": {
  "kernelspec": {
   "display_name": "Python 3 (ipykernel)",
   "language": "python",
   "name": "python3"
  },
  "language_info": {
   "codemirror_mode": {
    "name": "ipython",
    "version": 3
   },
   "file_extension": ".py",
   "mimetype": "text/x-python",
   "name": "python",
   "nbconvert_exporter": "python",
   "pygments_lexer": "ipython3",
   "version": "3.11.3"
  }
 },
 "nbformat": 4,
 "nbformat_minor": 5
}
