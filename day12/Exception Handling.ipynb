{
 "cells": [
  {
   "cell_type": "code",
   "execution_count": null,
   "id": "42a95175",
   "metadata": {},
   "outputs": [],
   "source": [
    "try:\n",
    "    inp=input(\"Enter a number\")\n",
    "    num= int(inp)\n",
    "    print(num)\n",
    "\n",
    "except ValueError:\n",
    "    print(\"invlid data type! Required int or float types\")\n",
    "    \n",
    "    "
   ]
  },
  {
   "cell_type": "code",
   "execution_count": null,
   "id": "25252b6b",
   "metadata": {},
   "outputs": [],
   "source": [
    "try:\n",
    "    num1=int(input(\"Enter a number\"))\n",
    "    num2=int(input(\"Enter another number\"))\n",
    "    result= num1 / num2\n",
    "    print(result)\n",
    "\n",
    "except ValueError:\n",
    "    print(\"invlid data type! Required int or float types\")\n",
    "    "
   ]
  },
  {
   "cell_type": "code",
   "execution_count": 10,
   "id": "25427a2d",
   "metadata": {},
   "outputs": [
    {
     "name": "stdout",
     "output_type": "stream",
     "text": [
      "Enter a number50\n",
      "Enter another number0\n"
     ]
    },
    {
     "ename": "ZeroDivisionError",
     "evalue": "division by zero",
     "output_type": "error",
     "traceback": [
      "\u001b[1;31m---------------------------------------------------------------------------\u001b[0m",
      "\u001b[1;31mZeroDivisionError\u001b[0m                         Traceback (most recent call last)",
      "Cell \u001b[1;32mIn[10], line 4\u001b[0m\n\u001b[0;32m      2\u001b[0m     num1\u001b[38;5;241m=\u001b[39m\u001b[38;5;28mint\u001b[39m(\u001b[38;5;28minput\u001b[39m(\u001b[38;5;124m\"\u001b[39m\u001b[38;5;124mEnter a number\u001b[39m\u001b[38;5;124m\"\u001b[39m))\n\u001b[0;32m      3\u001b[0m     num2\u001b[38;5;241m=\u001b[39m\u001b[38;5;28mint\u001b[39m(\u001b[38;5;28minput\u001b[39m(\u001b[38;5;124m\"\u001b[39m\u001b[38;5;124mEnter another number\u001b[39m\u001b[38;5;124m\"\u001b[39m))\n\u001b[1;32m----> 4\u001b[0m     result\u001b[38;5;241m=\u001b[39m \u001b[43mnum1\u001b[49m\u001b[43m \u001b[49m\u001b[38;5;241;43m/\u001b[39;49m\u001b[43m \u001b[49m\u001b[43mnum2\u001b[49m\n\u001b[0;32m      5\u001b[0m     \u001b[38;5;28mprint\u001b[39m(result)\n\u001b[0;32m      7\u001b[0m \u001b[38;5;28;01mexcept\u001b[39;00m \u001b[38;5;167;01mValueError\u001b[39;00m:\n",
      "\u001b[1;31mZeroDivisionError\u001b[0m: division by zero"
     ]
    }
   ],
   "source": [
    "try:\n",
    "    num1=int(input(\"Enter a number\"))\n",
    "    num2=int(input(\"Enter another number\"))\n",
    "    result= num1 / num2\n",
    "    print(result)\n",
    "\n",
    "except ValueError:\n",
    "    print(\"Cannot divide by zero\")\n",
    "    "
   ]
  },
  {
   "cell_type": "code",
   "execution_count": null,
   "id": "8ed88358",
   "metadata": {},
   "outputs": [],
   "source": [
    "num_str = \"abc\"\n",
    "try:\n",
    "    num = int(num_str)\n",
    "    print(num)\n",
    "\n",
    "except (ValueError , TypeError):\n",
    "    print(\"Could not converted into integers\")\n",
    "    \n",
    "    "
   ]
  },
  {
   "cell_type": "code",
   "execution_count": null,
   "id": "531116ed",
   "metadata": {},
   "outputs": [],
   "source": [
    "num_str = \"abc\"\n",
    "try:\n",
    "    num = int(num_str)\n",
    "    print(num)\n",
    "\n",
    "except Exception:\n",
    "    print(\"An exception error\")\n",
    "    "
   ]
  },
  {
   "cell_type": "code",
   "execution_count": null,
   "id": "fc3ff422",
   "metadata": {},
   "outputs": [],
   "source": [
    "num_str = \"abc\"\n",
    "try:\n",
    "    num = int(num_str)\n",
    "    print(num)\n",
    "\n",
    "except Exception as e:\n",
    "    print()\n",
    "    "
   ]
  },
  {
   "cell_type": "code",
   "execution_count": null,
   "id": "ec7cff8c",
   "metadata": {},
   "outputs": [],
   "source": [
    "try:\n",
    "     num1=int(input(\"Enter a number\"))\n",
    "     num2=int(input(\"Enter another number\"))\n",
    "     result= num1 / num2\n",
    "except ZeroDivisionError:\n",
    "    print(\"cannot divide by zero\")\n",
    "\n",
    "else:\n",
    "    print(\"Result is\",Result)\n",
    "finally:\n",
    "    print(\"ERROR\")\n",
    "    "
   ]
  },
  {
   "cell_type": "code",
   "execution_count": null,
   "id": "c47291a5",
   "metadata": {},
   "outputs": [],
   "source": [
    "try:\n",
    "     x=int(input(\"Enter a number\"))\n",
    "     y=int(input(\"Enter another number\"))\n",
    "     z= num1 / num2\n",
    "except  ZeroDivisionError:\n",
    "    print(\"cannot divide by zero\")\n",
    "\n",
    "else:\n",
    "    print(\"Result is\",z)\n",
    "finally:\n",
    "    print(\"The block is always executed\")\n",
    "    \n",
    "    "
   ]
  },
  {
   "cell_type": "markdown",
   "id": "b9a13f35",
   "metadata": {},
   "source": [
    " #  Python Raise Statement"
   ]
  },
  {
   "cell_type": "code",
   "execution_count": null,
   "id": "172aead1",
   "metadata": {},
   "outputs": [],
   "source": [
    "x=10\n",
    "if x > 5:\n",
    "    raise ValueError(\"x should not be greater than 5\")"
   ]
  },
  {
   "cell_type": "code",
   "execution_count": null,
   "id": "ca8aac9d",
   "metadata": {},
   "outputs": [],
   "source": [
    "\n",
    "class Myexception(Exception):\n",
    "    pass\n",
    "\n"
   ]
  },
  {
   "cell_type": "code",
   "execution_count": null,
   "id": "670cdb60",
   "metadata": {},
   "outputs": [],
   "source": [
    "raise MyException(\"This is a custom exception\")"
   ]
  },
  {
   "cell_type": "code",
   "execution_count": null,
   "id": "201b4db7",
   "metadata": {},
   "outputs": [],
   "source": []
  }
 ],
 "metadata": {
  "kernelspec": {
   "display_name": "Python 3 (ipykernel)",
   "language": "python",
   "name": "python3"
  },
  "language_info": {
   "codemirror_mode": {
    "name": "ipython",
    "version": 3
   },
   "file_extension": ".py",
   "mimetype": "text/x-python",
   "name": "python",
   "nbconvert_exporter": "python",
   "pygments_lexer": "ipython3",
   "version": "3.11.3"
  }
 },
 "nbformat": 4,
 "nbformat_minor": 5
}
