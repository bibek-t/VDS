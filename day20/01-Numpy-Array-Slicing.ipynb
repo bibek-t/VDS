{
 "cells": [
  {
   "cell_type": "code",
   "execution_count": 1,
   "id": "ba89bf46",
   "metadata": {},
   "outputs": [],
   "source": [
    "import numpy as np"
   ]
  },
  {
   "cell_type": "markdown",
   "id": "585513cd",
   "metadata": {},
   "source": [
    " ##  One dimensional array"
   ]
  },
  {
   "cell_type": "code",
   "execution_count": 2,
   "id": "91a1878e",
   "metadata": {},
   "outputs": [],
   "source": [
    "list1=[1, 2, 3, 4 , 5, 6, 7, 8]"
   ]
  },
  {
   "cell_type": "code",
   "execution_count": 3,
   "id": "1c2d64c2",
   "metadata": {},
   "outputs": [
    {
     "data": {
      "text/plain": [
       "[2, 4, 6]"
      ]
     },
     "execution_count": 3,
     "metadata": {},
     "output_type": "execute_result"
    }
   ],
   "source": [
    "list1[1:7:2]"
   ]
  },
  {
   "cell_type": "code",
   "execution_count": 4,
   "id": "69a53734",
   "metadata": {},
   "outputs": [],
   "source": [
    "array1 = np.array(list1)"
   ]
  },
  {
   "cell_type": "code",
   "execution_count": 5,
   "id": "dd413c89",
   "metadata": {},
   "outputs": [
    {
     "data": {
      "text/plain": [
       "array([2, 4, 6])"
      ]
     },
     "execution_count": 5,
     "metadata": {},
     "output_type": "execute_result"
    }
   ],
   "source": [
    "array1[1:7:2]"
   ]
  },
  {
   "cell_type": "markdown",
   "id": "48436311",
   "metadata": {},
   "source": [
    "##    Multi Dimensional"
   ]
  },
  {
   "cell_type": "code",
   "execution_count": 6,
   "id": "fd4589cf",
   "metadata": {},
   "outputs": [],
   "source": [
    "list2 = [[1 ,2 ,3 , 4 ,5, 6, 7, 8],[1, 3, 5, 7, 9, 11, 13, 15]]"
   ]
  },
  {
   "cell_type": "code",
   "execution_count": 7,
   "id": "8524b759",
   "metadata": {},
   "outputs": [
    {
     "data": {
      "text/plain": [
       "[6, 7, 8]"
      ]
     },
     "execution_count": 7,
     "metadata": {},
     "output_type": "execute_result"
    }
   ],
   "source": [
    "list2[0][5:]"
   ]
  },
  {
   "cell_type": "code",
   "execution_count": 8,
   "id": "10ed3c52",
   "metadata": {},
   "outputs": [],
   "source": [
    "array2 = np.array(list2)\n"
   ]
  },
  {
   "cell_type": "code",
   "execution_count": 9,
   "id": "0f06336a",
   "metadata": {},
   "outputs": [
    {
     "data": {
      "text/plain": [
       "array([[ 1,  2,  3,  4,  5,  6,  7,  8],\n",
       "       [ 1,  3,  5,  7,  9, 11, 13, 15]])"
      ]
     },
     "execution_count": 9,
     "metadata": {},
     "output_type": "execute_result"
    }
   ],
   "source": [
    "array2"
   ]
  },
  {
   "cell_type": "code",
   "execution_count": 10,
   "id": "a5b1b016",
   "metadata": {},
   "outputs": [
    {
     "data": {
      "text/plain": [
       "array([6, 7, 8])"
      ]
     },
     "execution_count": 10,
     "metadata": {},
     "output_type": "execute_result"
    }
   ],
   "source": [
    "array2[0][5:]"
   ]
  },
  {
   "cell_type": "code",
   "execution_count": 11,
   "id": "81a3a4d9",
   "metadata": {},
   "outputs": [
    {
     "data": {
      "text/plain": [
       "array([6, 7, 8])"
      ]
     },
     "execution_count": 11,
     "metadata": {},
     "output_type": "execute_result"
    }
   ],
   "source": [
    "array2[0 ,5:]"
   ]
  },
  {
   "cell_type": "code",
   "execution_count": 12,
   "id": "e28644e1",
   "metadata": {},
   "outputs": [
    {
     "data": {
      "text/plain": [
       "array([[2, 3, 4],\n",
       "       [3, 5, 7]])"
      ]
     },
     "execution_count": 12,
     "metadata": {},
     "output_type": "execute_result"
    }
   ],
   "source": [
    "array2[ :,1:4] # where : represents all row"
   ]
  },
  {
   "cell_type": "code",
   "execution_count": 13,
   "id": "422b2811",
   "metadata": {},
   "outputs": [],
   "source": [
    "odd_first_list =array2[0 , array2[0] % 2 !=0]\n",
    "even_second_list =array2[1 , array2[1] % 2 ==0]"
   ]
  },
  {
   "cell_type": "code",
   "execution_count": 14,
   "id": "b9b3819c",
   "metadata": {},
   "outputs": [
    {
     "data": {
      "text/plain": [
       "array([1, 3, 5, 7])"
      ]
     },
     "execution_count": 14,
     "metadata": {},
     "output_type": "execute_result"
    }
   ],
   "source": [
    "odd_first_list"
   ]
  },
  {
   "cell_type": "code",
   "execution_count": 15,
   "id": "439d5788",
   "metadata": {},
   "outputs": [
    {
     "data": {
      "text/plain": [
       "array([], dtype=int32)"
      ]
     },
     "execution_count": 15,
     "metadata": {},
     "output_type": "execute_result"
    }
   ],
   "source": [
    "even_second_list"
   ]
  },
  {
   "cell_type": "code",
   "execution_count": 19,
   "id": "3f85e1e7",
   "metadata": {},
   "outputs": [
    {
     "data": {
      "text/plain": [
       "array([[ 2,  4,  6,  8],\n",
       "       [ 3,  7, 11, 15]])"
      ]
     },
     "execution_count": 19,
     "metadata": {},
     "output_type": "execute_result"
    }
   ],
   "source": [
    "# [start : stop : step]\n",
    "array2[:, 1::2]"
   ]
  },
  {
   "cell_type": "code",
   "execution_count": 20,
   "id": "e3e70523",
   "metadata": {},
   "outputs": [],
   "source": [
    "list3=[[1,2,3,4,5,6,7,8],[1,3,5,7,9,11,13,15],[15,25,9999,376,19,420,786,555]]"
   ]
  },
  {
   "cell_type": "code",
   "execution_count": 21,
   "id": "cd7273a6",
   "metadata": {},
   "outputs": [],
   "source": [
    "array3 = np.array(list3)"
   ]
  },
  {
   "cell_type": "code",
   "execution_count": 22,
   "id": "a69fdd2a",
   "metadata": {},
   "outputs": [
    {
     "data": {
      "text/plain": [
       "array([[   1,    2,    3,    4,    5,    6,    7,    8],\n",
       "       [   1,    3,    5,    7,    9,   11,   13,   15],\n",
       "       [  15,   25, 9999,  376,   19,  420,  786,  555]])"
      ]
     },
     "execution_count": 22,
     "metadata": {},
     "output_type": "execute_result"
    }
   ],
   "source": [
    "array3"
   ]
  },
  {
   "cell_type": "code",
   "execution_count": 24,
   "id": "8929d949",
   "metadata": {},
   "outputs": [
    {
     "data": {
      "text/plain": [
       "array([[  9,  11,  13],\n",
       "       [ 19, 420, 786]])"
      ]
     },
     "execution_count": 24,
     "metadata": {},
     "output_type": "execute_result"
    }
   ],
   "source": [
    "array3[1:, 4:7]"
   ]
  },
  {
   "cell_type": "code",
   "execution_count": 25,
   "id": "1d71c0e4",
   "metadata": {},
   "outputs": [
    {
     "data": {
      "text/plain": [
       "(3, 8)"
      ]
     },
     "execution_count": 25,
     "metadata": {},
     "output_type": "execute_result"
    }
   ],
   "source": [
    "array3.shape"
   ]
  },
  {
   "cell_type": "code",
   "execution_count": 26,
   "id": "59052252",
   "metadata": {},
   "outputs": [
    {
     "data": {
      "text/plain": [
       "3"
      ]
     },
     "execution_count": 26,
     "metadata": {},
     "output_type": "execute_result"
    }
   ],
   "source": [
    "array3.shape[0]"
   ]
  },
  {
   "cell_type": "code",
   "execution_count": 35,
   "id": "03e0b867",
   "metadata": {},
   "outputs": [],
   "source": [
    "list4 =[\n",
    "    [[1,2,3,4],[5,6,7,8]],\n",
    "    [[1,3,5,7],[9,11,13,15]],\n",
    "    [[15,25,9999,376],[19,420,786,555]]\n",
    "]"
   ]
  },
  {
   "cell_type": "code",
   "execution_count": 36,
   "id": "73282e69",
   "metadata": {},
   "outputs": [],
   "source": [
    "array4= np.array(list4)"
   ]
  },
  {
   "cell_type": "code",
   "execution_count": 37,
   "id": "e975f51f",
   "metadata": {},
   "outputs": [
    {
     "data": {
      "text/plain": [
       "(3, 2, 4)"
      ]
     },
     "execution_count": 37,
     "metadata": {},
     "output_type": "execute_result"
    }
   ],
   "source": [
    "array4.shape"
   ]
  },
  {
   "cell_type": "code",
   "execution_count": 38,
   "id": "d37a5b4a",
   "metadata": {},
   "outputs": [
    {
     "data": {
      "text/plain": [
       "3"
      ]
     },
     "execution_count": 38,
     "metadata": {},
     "output_type": "execute_result"
    }
   ],
   "source": [
    "array4.ndim"
   ]
  },
  {
   "cell_type": "code",
   "execution_count": 39,
   "id": "ed191632",
   "metadata": {},
   "outputs": [
    {
     "data": {
      "text/plain": [
       "array([], shape=(3, 0, 2), dtype=int32)"
      ]
     },
     "execution_count": 39,
     "metadata": {},
     "output_type": "execute_result"
    }
   ],
   "source": [
    "array4[ :, 2:3,1:3]"
   ]
  },
  {
   "cell_type": "code",
   "execution_count": 41,
   "id": "061e9eb4",
   "metadata": {},
   "outputs": [
    {
     "data": {
      "text/plain": [
       "array([[[ 2,  3],\n",
       "        [ 6,  7]],\n",
       "\n",
       "       [[ 3,  5],\n",
       "        [11, 13]]])"
      ]
     },
     "execution_count": 41,
     "metadata": {},
     "output_type": "execute_result"
    }
   ],
   "source": [
    "array4[:2,:,1:3]"
   ]
  },
  {
   "cell_type": "code",
   "execution_count": null,
   "id": "a3e0bb74",
   "metadata": {},
   "outputs": [],
   "source": []
  }
 ],
 "metadata": {
  "kernelspec": {
   "display_name": "Python 3 (ipykernel)",
   "language": "python",
   "name": "python3"
  },
  "language_info": {
   "codemirror_mode": {
    "name": "ipython",
    "version": 3
   },
   "file_extension": ".py",
   "mimetype": "text/x-python",
   "name": "python",
   "nbconvert_exporter": "python",
   "pygments_lexer": "ipython3",
   "version": "3.11.3"
  }
 },
 "nbformat": 4,
 "nbformat_minor": 5
}
