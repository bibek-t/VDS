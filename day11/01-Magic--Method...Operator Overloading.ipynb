{
 "cells": [
  {
   "cell_type": "markdown",
   "id": "dd5b6c52",
   "metadata": {},
   "source": [
    " #  Magic Method"
   ]
  },
  {
   "cell_type": "code",
   "execution_count": 11,
   "id": "8485c45b",
   "metadata": {},
   "outputs": [],
   "source": [
    "class Person:\n",
    "    def __init__(self, name , age):\n",
    "        self.name = name\n",
    "        self.age = age\n",
    "            \n",
    "    def __str__(self):\n",
    "        return f\"{self.name} is {self.age} year old\"\n",
    "   \n",
    "                \n",
    "    def __repr__(self):\n",
    "        return f\"Person({self.name}, {self.age})\"\n",
    "    \n",
    "    def __len__(self):\n",
    "        return self.age\n",
    "    \n",
    "    def __call__(self):\n",
    "        return f\"{self.name} is being called\"\n",
    "    "
   ]
  },
  {
   "cell_type": "code",
   "execution_count": 12,
   "id": "b1fba6fe",
   "metadata": {},
   "outputs": [
    {
     "name": "stdout",
     "output_type": "stream",
     "text": [
      "Alice is 30 year old\n",
      "Alice is 30 year old\n",
      "Person(Alice, 30)\n",
      "30\n",
      "Alice is being called\n"
     ]
    }
   ],
   "source": [
    "person=Person(\"Alice\", 30)\n",
    "print(person)\n",
    "print(str(person))\n",
    "print(repr(person))\n",
    "print(len(person))\n",
    "print(person())"
   ]
  },
  {
   "cell_type": "markdown",
   "id": "a6e838c9",
   "metadata": {},
   "source": [
    " # Operator Overloading\n",
    " "
   ]
  },
  {
   "cell_type": "code",
   "execution_count": 19,
   "id": "b8b025f8",
   "metadata": {},
   "outputs": [],
   "source": [
    "class Point:\n",
    "    def __init__(self ,x , y):\n",
    "        self.x= x\n",
    "        self.y=y\n",
    "        \n",
    "    def __add__(self, other):\n",
    "        x= self.x + other.x\n",
    "        y= self.y + other.y\n",
    "        return Point(x, y)\n",
    "   \n",
    "    def __sub__(self, other):\n",
    "        x= self.x - other.x\n",
    "        y= self.y - other.y\n",
    "        return Point(x, y)\n",
    "    \n",
    "    def __mul__(self, other):\n",
    "        x= self.x * other.x\n",
    "        y= self.y * other.y\n",
    "        return Point(x, y)\n",
    "   \n",
    "    def __truediv__(self, other):\n",
    "        x= self.x / other.x\n",
    "        y= self.y / other.y\n",
    "        return Point(x, y)\n",
    "    \n",
    "    def __ep__(self, other):\n",
    "        return self.x == other.x and self.y== other.y\n",
    "        \n",
    "    def __lt__(self, other):\n",
    "        return self.x < other.x and self.y < other.y\n",
    "        \n",
    "        \n",
    "   \n",
    "   "
   ]
  },
  {
   "cell_type": "code",
   "execution_count": 23,
   "id": "3eb6dc4a",
   "metadata": {},
   "outputs": [
    {
     "name": "stdout",
     "output_type": "stream",
     "text": [
      "<__main__.Point object at 0x00000266B777F750>\n",
      "<__main__.Point object at 0x00000266B777FC90>\n",
      "<__main__.Point object at 0x00000266B7D9BF50>\n",
      "<__main__.Point object at 0x00000266B7D6CA50>\n",
      "False\n",
      "True\n"
     ]
    }
   ],
   "source": [
    "p1=Point(1,2)\n",
    "p2=Point(3,4)\n",
    "print(p1 + p2)\n",
    "print(p1 - p2)\n",
    "print(p1 * p2)\n",
    "print(p1 / p2)\n",
    "print(p1 == p2)\n",
    "print(p1 < p2)"
   ]
  },
  {
   "cell_type": "code",
   "execution_count": 26,
   "id": "f8b2d508",
   "metadata": {},
   "outputs": [],
   "source": [
    "class Point:\n",
    "    def __init__(self ,x , y):\n",
    "        self.x= x\n",
    "        self.y=y\n",
    "        \n",
    "    def __add__(self, other):\n",
    "        x= self.x + other.x\n",
    "        y= self.y + other.y\n",
    "        return Point(x, y)\n",
    "   \n",
    "    def __sub__(self, other):\n",
    "        x= self.x - other.x\n",
    "        y= self.y - other.y\n",
    "        return Point(x, y)\n",
    "    \n",
    "    def __mul__(self, other):\n",
    "        x= self.x * other.x\n",
    "        y= self.y * other.y\n",
    "        return Point(x, y)\n",
    "   \n",
    "    def __truediv__(self, other):\n",
    "        x= self.x / other.x\n",
    "        y= self.y / other.y\n",
    "        return Point(x, y)\n",
    "    \n",
    "    def __ep__(self, other):\n",
    "        return self.x == other.x and self.y== other.y\n",
    "        \n",
    "    def __lt__(self, other):\n",
    "        return self.x < other.x and self.y < other.y\n",
    "        \n",
    "        \n",
    "    def __repr__(self):\n",
    "        return f\"({self.x} , {self.y})\""
   ]
  },
  {
   "cell_type": "code",
   "execution_count": 27,
   "id": "a6c07c4b",
   "metadata": {},
   "outputs": [
    {
     "name": "stdout",
     "output_type": "stream",
     "text": [
      "(4,6)\n",
      "(-2,-2)\n",
      "(3,8)\n",
      "(0.3333333333333333,0.5)\n",
      "False\n",
      "True\n"
     ]
    }
   ],
   "source": [
    "p1=Point(1,2)\n",
    "p2=Point(3,4)\n",
    "\n",
    "print(p1 + p2)\n",
    "print(p1 - p2)\n",
    "print(p1 * p2)\n",
    "print(p1 / p2)\n",
    "print(p1 == p2)\n",
    "print(p1 < p2)"
   ]
  },
  {
   "cell_type": "code",
   "execution_count": null,
   "id": "3e194c1d",
   "metadata": {},
   "outputs": [],
   "source": []
  }
 ],
 "metadata": {
  "kernelspec": {
   "display_name": "Python 3 (ipykernel)",
   "language": "python",
   "name": "python3"
  },
  "language_info": {
   "codemirror_mode": {
    "name": "ipython",
    "version": 3
   },
   "file_extension": ".py",
   "mimetype": "text/x-python",
   "name": "python",
   "nbconvert_exporter": "python",
   "pygments_lexer": "ipython3",
   "version": "3.11.3"
  }
 },
 "nbformat": 4,
 "nbformat_minor": 5
}
