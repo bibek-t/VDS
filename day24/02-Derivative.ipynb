{
 "cells": [
  {
   "cell_type": "markdown",
   "id": "b94a54a5",
   "metadata": {},
   "source": [
    "##  Limit of a function"
   ]
  },
  {
   "cell_type": "code",
   "execution_count": 1,
   "id": "fa77b501",
   "metadata": {},
   "outputs": [
    {
     "name": "stdout",
     "output_type": "stream",
     "text": [
      "2\n"
     ]
    }
   ],
   "source": [
    "import sympy as sp\n",
    "\n",
    "x= sp.symbols('x')\n",
    "\n",
    "f = (x**2 -1)/(x-1)\n",
    "\n",
    "limit =sp.limit(f,x,1)\n",
    "\n",
    "print(limit)"
   ]
  },
  {
   "cell_type": "markdown",
   "id": "568e9752",
   "metadata": {},
   "source": [
    "##  Derivative"
   ]
  },
  {
   "cell_type": "code",
   "execution_count": 3,
   "id": "6ba2f4ef",
   "metadata": {},
   "outputs": [
    {
     "name": "stdout",
     "output_type": "stream",
     "text": [
      "cos(x)\n"
     ]
    }
   ],
   "source": [
    "import sympy as sp\n",
    "\n",
    "x= sp.symbols('x')\n",
    "\n",
    "f =sp.sin(x)\n",
    "\n",
    "dfdx = sp.diff(f,x)\n",
    "\n",
    "print(dfdx)"
   ]
  },
  {
   "cell_type": "code",
   "execution_count": null,
   "id": "1396cb36",
   "metadata": {},
   "outputs": [],
   "source": []
  }
 ],
 "metadata": {
  "kernelspec": {
   "display_name": "Python 3 (ipykernel)",
   "language": "python",
   "name": "python3"
  },
  "language_info": {
   "codemirror_mode": {
    "name": "ipython",
    "version": 3
   },
   "file_extension": ".py",
   "mimetype": "text/x-python",
   "name": "python",
   "nbconvert_exporter": "python",
   "pygments_lexer": "ipython3",
   "version": "3.11.3"
  }
 },
 "nbformat": 4,
 "nbformat_minor": 5
}
